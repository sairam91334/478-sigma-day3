{
 "cells": [
  {
   "cell_type": "code",
   "execution_count": 1,
   "id": "b4baaf56-dc39-45e9-a1a1-9f4dd31c276d",
   "metadata": {},
   "outputs": [
    {
     "name": "stdin",
     "output_type": "stream",
     "text": [
      "Enter marks for Subject 1:  80\n",
      "Enter marks for Subject 2:  63\n",
      "Enter marks for Subject 3:  84\n"
     ]
    },
    {
     "name": "stdout",
     "output_type": "stream",
     "text": [
      "Grade: C\n"
     ]
    }
   ],
   "source": [
    "\n",
    "def calculate_grade():\n",
    "    try:\n",
    "        \n",
    "        subject1 = float(input(\"Enter marks for Subject 1: \"))\n",
    "        subject2 = float(input(\"Enter marks for Subject 2: \"))\n",
    "        subject3 = float(input(\"Enter marks for Subject 3: \"))\n",
    "\n",
    "      \n",
    "        average = (subject1 + subject2 + subject3) / 3\n",
    "\n",
    "        \n",
    "        if average >= 90:\n",
    "            print(\"Grade: A\")\n",
    "        elif 80 <= average < 90:\n",
    "            print(\"Grade: B\")\n",
    "        elif 70 <= average < 80:\n",
    "            print(\"Grade: C\")\n",
    "        else:\n",
    "            print(\"Grade: Fail\")\n",
    "    except ValueError:\n",
    "        print(\"Invalid input. Please enter numeric values.\")\n",
    "\n",
    "\n",
    "calculate_grade()\n"
   ]
  },
  {
   "cell_type": "code",
   "execution_count": null,
   "id": "bda04d7c-8ac5-48f2-8357-1b19951443f5",
   "metadata": {},
   "outputs": [],
   "source": []
  }
 ],
 "metadata": {
  "kernelspec": {
   "display_name": "Python 3 (ipykernel)",
   "language": "python",
   "name": "python3"
  },
  "language_info": {
   "codemirror_mode": {
    "name": "ipython",
    "version": 3
   },
   "file_extension": ".py",
   "mimetype": "text/x-python",
   "name": "python",
   "nbconvert_exporter": "python",
   "pygments_lexer": "ipython3",
   "version": "3.12.4"
  }
 },
 "nbformat": 4,
 "nbformat_minor": 5
}
