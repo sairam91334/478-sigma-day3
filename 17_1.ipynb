{
  "nbformat": 4,
  "nbformat_minor": 0,
  "metadata": {
    "colab": {
      "provenance": [],
      "authorship_tag": "ABX9TyNzQFJ2kdK9vEe708dAd6/B",
      "include_colab_link": true
    },
    "kernelspec": {
      "name": "python3",
      "display_name": "Python 3"
    },
    "language_info": {
      "name": "python"
    }
  },
  "cells": [
    {
      "cell_type": "markdown",
      "metadata": {
        "id": "view-in-github",
        "colab_type": "text"
      },
      "source": [
        "<a href=\"https://colab.research.google.com/github/sairam91334/478-sigma-day3/blob/main/17_1.ipynb\" target=\"_parent\"><img src=\"https://colab.research.google.com/assets/colab-badge.svg\" alt=\"Open In Colab\"/></a>"
      ]
    },
    {
      "cell_type": "code",
      "execution_count": null,
      "metadata": {
        "id": "yX0AyW8zkK2t"
      },
      "outputs": [],
      "source": [
        "import numpy as np\n"
      ]
    },
    {
      "cell_type": "code",
      "source": [
        "j=[4,6,2,8,9]\n",
        "j"
      ],
      "metadata": {
        "colab": {
          "base_uri": "https://localhost:8080/"
        },
        "id": "wNLpzgFbkT3r",
        "outputId": "6d18f35a-9b51-4624-b06a-dd1f932a89b5"
      },
      "execution_count": null,
      "outputs": [
        {
          "output_type": "execute_result",
          "data": {
            "text/plain": [
              "[4, 6, 2, 8, 9]"
            ]
          },
          "metadata": {},
          "execution_count": 3
        }
      ]
    },
    {
      "source": [
        "import numpy as np\n",
        "\n",
        "d = np.array([1, 2, 3, 4, 5, 6])\n",
        "\n",
        "w = d.reshape(3, 2)"
      ],
      "cell_type": "code",
      "metadata": {
        "id": "YghY-y1ywIZ4"
      },
      "execution_count": null,
      "outputs": []
    },
    {
      "cell_type": "code",
      "source": [
        "list(range(3,13))"
      ],
      "metadata": {
        "colab": {
          "base_uri": "https://localhost:8080/"
        },
        "id": "tdYX3HvmySWd",
        "outputId": "c9c622c2-8a6d-4437-99a0-e6241e880ee2"
      },
      "execution_count": null,
      "outputs": [
        {
          "output_type": "execute_result",
          "data": {
            "text/plain": [
              "[3, 4, 5, 6, 7, 8, 9, 10, 11, 12]"
            ]
          },
          "metadata": {},
          "execution_count": 7
        }
      ]
    },
    {
      "cell_type": "code",
      "source": [
        "list(range(3,13,2))"
      ],
      "metadata": {
        "colab": {
          "base_uri": "https://localhost:8080/"
        },
        "id": "nqv-mQElyZ7g",
        "outputId": "5f54cd4c-cc5d-4020-9250-f6b839dd67db"
      },
      "execution_count": null,
      "outputs": [
        {
          "output_type": "execute_result",
          "data": {
            "text/plain": [
              "[3, 5, 7, 9, 11]"
            ]
          },
          "metadata": {},
          "execution_count": 8
        }
      ]
    },
    {
      "cell_type": "code",
      "source": [
        "tuple(range(5,506,100))"
      ],
      "metadata": {
        "colab": {
          "base_uri": "https://localhost:8080/"
        },
        "id": "3eralWsyzBa_",
        "outputId": "103d2ef0-03b3-43bc-97c2-7b564b388a71"
      },
      "execution_count": null,
      "outputs": [
        {
          "output_type": "execute_result",
          "data": {
            "text/plain": [
              "(5, 105, 205, 305, 405, 505)"
            ]
          },
          "metadata": {},
          "execution_count": 9
        }
      ]
    },
    {
      "cell_type": "code",
      "source": [
        "range(-10,1)"
      ],
      "metadata": {
        "colab": {
          "base_uri": "https://localhost:8080/"
        },
        "id": "oMOiNoKLzIyd",
        "outputId": "04dd8d2b-a6f6-40ff-c683-546bd124ae5a"
      },
      "execution_count": null,
      "outputs": [
        {
          "output_type": "execute_result",
          "data": {
            "text/plain": [
              "range(-10, 1)"
            ]
          },
          "metadata": {},
          "execution_count": 10
        }
      ]
    },
    {
      "cell_type": "code",
      "source": [
        "list(range(-10,1))"
      ],
      "metadata": {
        "colab": {
          "base_uri": "https://localhost:8080/"
        },
        "id": "fsScX9jjzRjH",
        "outputId": "b5cad7a9-729a-46b4-9b3f-ab4eddcac533"
      },
      "execution_count": null,
      "outputs": [
        {
          "output_type": "execute_result",
          "data": {
            "text/plain": [
              "[-10, -9, -8, -7, -6, -5, -4, -3, -2, -1, 0]"
            ]
          },
          "metadata": {},
          "execution_count": 11
        }
      ]
    },
    {
      "cell_type": "code",
      "source": [
        "list(range(-1,-10,-1))"
      ],
      "metadata": {
        "colab": {
          "base_uri": "https://localhost:8080/"
        },
        "id": "_TmhRFJ0zejq",
        "outputId": "8805caa0-acf3-4e33-dca2-d94414881a04"
      },
      "execution_count": null,
      "outputs": [
        {
          "output_type": "execute_result",
          "data": {
            "text/plain": [
              "[-1, -2, -3, -4, -5, -6, -7, -8, -9]"
            ]
          },
          "metadata": {},
          "execution_count": 12
        }
      ]
    },
    {
      "cell_type": "code",
      "source": [
        "list(range(-1,-10,-2))"
      ],
      "metadata": {
        "colab": {
          "base_uri": "https://localhost:8080/"
        },
        "id": "4fMf-Io5zmCe",
        "outputId": "8211bee3-b113-4a29-922e-2b3d94dfc7fe"
      },
      "execution_count": null,
      "outputs": [
        {
          "output_type": "execute_result",
          "data": {
            "text/plain": [
              "[-1, -3, -5, -7, -9]"
            ]
          },
          "metadata": {},
          "execution_count": 13
        }
      ]
    },
    {
      "source": [
        "np.arange(2.5, 5, 0.5)"
      ],
      "cell_type": "code",
      "metadata": {
        "colab": {
          "base_uri": "https://localhost:8080/"
        },
        "id": "hRGvy-mo1AUx",
        "outputId": "27fe9087-1535-4ad3-d4f1-a0097991961a"
      },
      "execution_count": null,
      "outputs": [
        {
          "output_type": "execute_result",
          "data": {
            "text/plain": [
              "array([2.5, 3. , 3.5, 4. , 4.5])"
            ]
          },
          "metadata": {},
          "execution_count": 15
        }
      ]
    },
    {
      "cell_type": "code",
      "source": [
        "for i in range(5,50,5):\n",
        "  print('Data,i')"
      ],
      "metadata": {
        "colab": {
          "base_uri": "https://localhost:8080/"
        },
        "id": "W-8Mh9rJ1fMs",
        "outputId": "25c8c831-acbd-40d3-b4cc-ebce9b546efc"
      },
      "execution_count": null,
      "outputs": [
        {
          "output_type": "stream",
          "name": "stdout",
          "text": [
            "Data,i\n",
            "Data,i\n",
            "Data,i\n",
            "Data,i\n",
            "Data,i\n",
            "Data,i\n",
            "Data,i\n",
            "Data,i\n",
            "Data,i\n"
          ]
        }
      ]
    },
    {
      "cell_type": "code",
      "source": [
        "j=[5,87,23,46,62,84,80,45,77,33,80]\n",
        "j"
      ],
      "metadata": {
        "colab": {
          "base_uri": "https://localhost:8080/"
        },
        "id": "Xs8vhRgr1Fv1",
        "outputId": "7c237a7e-907e-4284-87db-5e27bad3f9d6"
      },
      "execution_count": null,
      "outputs": [
        {
          "output_type": "execute_result",
          "data": {
            "text/plain": [
              "[5, 87, 23, 46, 62, 84, 80, 45, 77, 33, 80]"
            ]
          },
          "metadata": {},
          "execution_count": 17
        }
      ]
    },
    {
      "cell_type": "code",
      "source": [
        "y=[]\n",
        "x=[]\n",
        "for i in range(len(j)):\n",
        "  if i%2==0:\n",
        "    y.append(j[i])\n",
        "  else:\n",
        "    x.append(j[i])"
      ],
      "metadata": {
        "id": "hRp_EnzU0iye"
      },
      "execution_count": null,
      "outputs": []
    },
    {
      "cell_type": "code",
      "source": [
        "np.random.normal(10,2,(7,4))"
      ],
      "metadata": {
        "id": "AAXyK8vn4haI",
        "colab": {
          "base_uri": "https://localhost:8080/"
        },
        "outputId": "26d5e1aa-cdd5-44c0-c171-5480e53c0088"
      },
      "execution_count": 19,
      "outputs": [
        {
          "output_type": "execute_result",
          "data": {
            "text/plain": [
              "array([[ 8.51084004, 12.11567626,  8.31454781, 13.90305515],\n",
              "       [ 7.65595788, 12.92310197, 11.14717952, 12.55958451],\n",
              "       [10.45174701, 12.6580322 ,  8.73362077,  9.66502465],\n",
              "       [ 7.95852191, 11.57944165,  6.90596265, 10.5778117 ],\n",
              "       [10.22015692, 11.96295786,  9.81491501,  6.81151642],\n",
              "       [ 7.49168061, 11.95511611,  8.70886875, 11.44531667],\n",
              "       [ 7.45588606, 13.45059905, 10.35319179,  6.26026176]])"
            ]
          },
          "metadata": {},
          "execution_count": 19
        }
      ]
    },
    {
      "cell_type": "code",
      "source": [
        "np.random.randint(35,86)"
      ],
      "metadata": {
        "colab": {
          "base_uri": "https://localhost:8080/"
        },
        "id": "WHlkjX9dOVsw",
        "outputId": "200c21ec-aa99-4502-8163-fc3c5478648b"
      },
      "execution_count": 20,
      "outputs": [
        {
          "output_type": "execute_result",
          "data": {
            "text/plain": [
              "69"
            ]
          },
          "metadata": {},
          "execution_count": 20
        }
      ]
    },
    {
      "cell_type": "code",
      "source": [
        "np.random.randint(35,86,10)"
      ],
      "metadata": {
        "colab": {
          "base_uri": "https://localhost:8080/"
        },
        "id": "QDFlIP_rOfPL",
        "outputId": "7bda5699-cbc1-420f-b0e8-c2d035ec93e9"
      },
      "execution_count": 21,
      "outputs": [
        {
          "output_type": "execute_result",
          "data": {
            "text/plain": [
              "array([60, 38, 47, 57, 39, 74, 55, 69, 47, 43])"
            ]
          },
          "metadata": {},
          "execution_count": 21
        }
      ]
    },
    {
      "cell_type": "code",
      "source": [],
      "metadata": {
        "id": "8YuWxzSzOisz"
      },
      "execution_count": null,
      "outputs": []
    }
  ]
}