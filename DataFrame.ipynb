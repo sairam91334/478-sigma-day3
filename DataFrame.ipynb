{
  "nbformat": 4,
  "nbformat_minor": 0,
  "metadata": {
    "colab": {
      "provenance": [],
      "authorship_tag": "ABX9TyPalXnf5n00tJup+Rw+jKRu",
      "include_colab_link": true
    },
    "kernelspec": {
      "name": "python3",
      "display_name": "Python 3"
    },
    "language_info": {
      "name": "python"
    }
  },
  "cells": [
    {
      "cell_type": "markdown",
      "metadata": {
        "id": "view-in-github",
        "colab_type": "text"
      },
      "source": [
        "<a href=\"https://colab.research.google.com/github/sairam91334/478-sigma-day3/blob/main/DataFrame.ipynb\" target=\"_parent\"><img src=\"https://colab.research.google.com/assets/colab-badge.svg\" alt=\"Open In Colab\"/></a>"
      ]
    },
    {
      "cell_type": "code",
      "execution_count": 1,
      "metadata": {
        "colab": {
          "base_uri": "https://localhost:8080/"
        },
        "id": "N2O7hddwPJlM",
        "outputId": "49131d8b-d10a-4723-f34f-96acf584c36e"
      },
      "outputs": [
        {
          "output_type": "stream",
          "name": "stdout",
          "text": [
            "[[ 1  2  3  4  5]\n",
            " [ 6  7  8  9 10]\n",
            " [ 2 12 23 10 89]]\n",
            "0th element on 2nd row:  9\n"
          ]
        }
      ],
      "source": [
        "import numpy as np\n",
        "arr = np.array([[1,2,3,4,5], [6,7,8,9,10], [2,12,23,10,89]])\n",
        "print(arr)\n",
        "print('0th element on 2nd row: ', arr[1,3])"
      ]
    },
    {
      "cell_type": "code",
      "source": [
        "import numpy as np\n",
        "arr = np.array([[1, 2, 3, 4, 5], [6, 7, 8, 9, 10], [2, 12, 23, 10, 89]])\n",
        "print(arr)\n",
        "print(arr[1:3, 1:5])"
      ],
      "metadata": {
        "colab": {
          "base_uri": "https://localhost:8080/"
        },
        "id": "CnnGPQgePK27",
        "outputId": "767b346c-f63a-43e8-d4cd-c7323415c587"
      },
      "execution_count": 2,
      "outputs": [
        {
          "output_type": "stream",
          "name": "stdout",
          "text": [
            "[[ 1  2  3  4  5]\n",
            " [ 6  7  8  9 10]\n",
            " [ 2 12 23 10 89]]\n",
            "[[ 7  8  9 10]\n",
            " [12 23 10 89]]\n"
          ]
        }
      ]
    },
    {
      "cell_type": "code",
      "source": [
        "import numpy as np\n",
        "arr = np.array([[[1, 2, 3], [4, 5, 6]], [[7, 8, 9], [10, 11, 12]]])\n",
        "print(arr)\n",
        "print(arr[1, 1, 2])\n"
      ],
      "metadata": {
        "colab": {
          "base_uri": "https://localhost:8080/"
        },
        "id": "u6Y9v7lPPQO-",
        "outputId": "1622918d-e5f2-46fc-e0f5-9067bc659618"
      },
      "execution_count": 3,
      "outputs": [
        {
          "output_type": "stream",
          "name": "stdout",
          "text": [
            "[[[ 1  2  3]\n",
            "  [ 4  5  6]]\n",
            "\n",
            " [[ 7  8  9]\n",
            "  [10 11 12]]]\n",
            "12\n"
          ]
        }
      ]
    },
    {
      "cell_type": "code",
      "source": [
        "import numpy as np\n",
        "arr = np.array([1, 2, 3, 4, 5, 6, 7, 8, 9, 10, 11, 12, 13])\n",
        "print(arr[1:5:2])"
      ],
      "metadata": {
        "colab": {
          "base_uri": "https://localhost:8080/"
        },
        "id": "WMfzOqkcPSwU",
        "outputId": "7320c339-20f8-4be1-ce6e-55c6d4672048"
      },
      "execution_count": 4,
      "outputs": [
        {
          "output_type": "stream",
          "name": "stdout",
          "text": [
            "[2 4]\n"
          ]
        }
      ]
    },
    {
      "cell_type": "code",
      "source": [
        "import pandas as pd\n",
        "sales_data = {\n",
        "'TransactionID': [1, 2, 3, 4, 5],\n",
        "'CustomerID': [101, 102, 103, 104, 105],\n",
        "'Amount': [250, 300, 40, 50, 600],\n",
        "'Date': ['2025-01-01', '2025-01-02', '2025-01-03', '2025-01-04', '2025-01-05']\n",
        "}\n",
        "customer_data = {\n",
        "'CustomerID': [101, 102, 103, 104],\n",
        "'CustomerName': ['Alice', 'Bob', 'Charlie', 'David'],\n",
        "'Age': [30, 35, 40, 25],\n",
        "'City': ['New York', 'Los Angeles', 'Chicago', 'Houston']\n",
        "}\n",
        "sales_df = pd.DataFrame(sales_data)\n",
        "customer_df = pd.DataFrame(customer_data)\n",
        "print(\"Sales Department:\")\n",
        "print(sales_df.head())"
      ],
      "metadata": {
        "colab": {
          "base_uri": "https://localhost:8080/"
        },
        "id": "CyMdKQILPVGJ",
        "outputId": "82d5db18-1680-4edd-cbb0-1ea05f4ee7ae"
      },
      "execution_count": 5,
      "outputs": [
        {
          "output_type": "stream",
          "name": "stdout",
          "text": [
            "Sales Department:\n",
            "   TransactionID  CustomerID  Amount        Date\n",
            "0              1         101     250  2025-01-01\n",
            "1              2         102     300  2025-01-02\n",
            "2              3         103      40  2025-01-03\n",
            "3              4         104      50  2025-01-04\n",
            "4              5         105     600  2025-01-05\n"
          ]
        }
      ]
    },
    {
      "cell_type": "code",
      "source": [
        "import pandas as pd\n",
        "data = {\n",
        "    \"Name\": [\"John\", \"Alice\", \"Bob\", \"Diana\"],\n",
        "    \"Age\": [28, 34, 23, 29],\n",
        "    \"Department\": [\"HR\", \"IT\", \"Marketing\", \"Finance\"],\n",
        "    \"Salary\": [45000, 60000, 35000, 50000]\n",
        "}\n",
        "Marks = {\n",
        "    \"Name\":[\"vedith\",\"Rohith\"],\n",
        "    \"AI\":[12,15],\n",
        "    \"ML\":[15,14]\n",
        "}\n",
        "df = pd.DataFrame(data)\n",
        "df1=pd.DataFrame(Marks)\n",
        "print(df)\n",
        "print(df1)"
      ],
      "metadata": {
        "colab": {
          "base_uri": "https://localhost:8080/"
        },
        "id": "NWob6-tLPW6q",
        "outputId": "fe0536d7-4e84-4ce3-e950-05d28df53915"
      },
      "execution_count": 6,
      "outputs": [
        {
          "output_type": "stream",
          "name": "stdout",
          "text": [
            "    Name  Age Department  Salary\n",
            "0   John   28         HR   45000\n",
            "1  Alice   34         IT   60000\n",
            "2    Bob   23  Marketing   35000\n",
            "3  Diana   29    Finance   50000\n",
            "     Name  AI  ML\n",
            "0  vedith  12  15\n",
            "1  Rohith  15  14\n"
          ]
        }
      ]
    },
    {
      "cell_type": "code",
      "source": [
        "import pandas as pd\n",
        "sales_data = {\n",
        "'TransactionID': [1, 2, 3, 4, 5],\n",
        "'CustomerID': [101, 102, 103, 104, 105],\n",
        "'Amount': [250, 300, 40, 50, 600],\n",
        "'Date': ['2025-01-01', '2025-01-02', '2025-01-03', '2025-01-04', '2025-01-05']\n",
        "}\n",
        "customer_data = {\n",
        "'CustomerID': [101, 102, 103, 104],\n",
        "'CustomerName': ['Alice', 'Bob', 'Charlie', 'David'],\n",
        "'Age': [30, 35, 40, 25],\n",
        "'City': ['New York', 'Los Angeles', 'Chicago', 'Houston']\n",
        "}\n",
        "sales_df = pd.DataFrame(sales_data)\n",
        "customer_df = pd.DataFrame(customer_data)\n",
        "print(\"Sales Department:\")\n",
        "print(sales_df.head())\n",
        "\n",
        "#1. Exploring the datatset (using shape and describe)\n",
        "print(\"\\nShape of the sales data:\", sales_df.shape)\n",
        "print(\"\\nSales data statistics:\")\n",
        "print(sales_df.describe())\n",
        "print(\"Sales Dataframe\", sales_df)\n",
        "print(\"customer_df\", customer_df)\n",
        "\n",
        "#2. merging the data (Sales with Customer\n",
        "merged_df = pd.merge(sales_df, customer_df, on='CustomerID', how='inner')\n",
        "print(\"\\nMerged DataFrame:\")\n",
        "print(merged_df)\n",
        "\n",
        "#3. Accessing data using 'loc' and 'iloc'\n",
        "print(\"\\nAccess data using 'loc' (row 1):\")\n",
        "print(merged_df.loc[1])\n",
        "print(\"\\nAccess data suing 'iloc' (row 2):\")\n",
        "print(merged_df.iloc[2])"
      ],
      "metadata": {
        "colab": {
          "base_uri": "https://localhost:8080/"
        },
        "id": "uitvuBtiPZKQ",
        "outputId": "25f17721-91e7-44a8-e97f-4df530b78590"
      },
      "execution_count": 7,
      "outputs": [
        {
          "output_type": "stream",
          "name": "stdout",
          "text": [
            "Sales Department:\n",
            "   TransactionID  CustomerID  Amount        Date\n",
            "0              1         101     250  2025-01-01\n",
            "1              2         102     300  2025-01-02\n",
            "2              3         103      40  2025-01-03\n",
            "3              4         104      50  2025-01-04\n",
            "4              5         105     600  2025-01-05\n",
            "\n",
            "Shape of the sales data: (5, 4)\n",
            "\n",
            "Sales data statistics:\n",
            "       TransactionID  CustomerID      Amount\n",
            "count       5.000000    5.000000    5.000000\n",
            "mean        3.000000  103.000000  248.000000\n",
            "std         1.581139    1.581139  228.626333\n",
            "min         1.000000  101.000000   40.000000\n",
            "25%         2.000000  102.000000   50.000000\n",
            "50%         3.000000  103.000000  250.000000\n",
            "75%         4.000000  104.000000  300.000000\n",
            "max         5.000000  105.000000  600.000000\n",
            "Sales Dataframe    TransactionID  CustomerID  Amount        Date\n",
            "0              1         101     250  2025-01-01\n",
            "1              2         102     300  2025-01-02\n",
            "2              3         103      40  2025-01-03\n",
            "3              4         104      50  2025-01-04\n",
            "4              5         105     600  2025-01-05\n",
            "customer_df    CustomerID CustomerName  Age         City\n",
            "0         101        Alice   30     New York\n",
            "1         102          Bob   35  Los Angeles\n",
            "2         103      Charlie   40      Chicago\n",
            "3         104        David   25      Houston\n",
            "\n",
            "Merged DataFrame:\n",
            "   TransactionID  CustomerID  Amount        Date CustomerName  Age  \\\n",
            "0              1         101     250  2025-01-01        Alice   30   \n",
            "1              2         102     300  2025-01-02          Bob   35   \n",
            "2              3         103      40  2025-01-03      Charlie   40   \n",
            "3              4         104      50  2025-01-04        David   25   \n",
            "\n",
            "          City  \n",
            "0     New York  \n",
            "1  Los Angeles  \n",
            "2      Chicago  \n",
            "3      Houston  \n",
            "\n",
            "Access data using 'loc' (row 1):\n",
            "TransactionID              2\n",
            "CustomerID               102\n",
            "Amount                   300\n",
            "Date              2025-01-02\n",
            "CustomerName             Bob\n",
            "Age                       35\n",
            "City             Los Angeles\n",
            "Name: 1, dtype: object\n",
            "\n",
            "Access data suing 'iloc' (row 2):\n",
            "TransactionID             3\n",
            "CustomerID              103\n",
            "Amount                   40\n",
            "Date             2025-01-03\n",
            "CustomerName        Charlie\n",
            "Age                      40\n",
            "City                Chicago\n",
            "Name: 2, dtype: object\n"
          ]
        }
      ]
    },
    {
      "cell_type": "code",
      "source": [],
      "metadata": {
        "id": "UVF_r7TqPbgz"
      },
      "execution_count": null,
      "outputs": []
    }
  ]
}